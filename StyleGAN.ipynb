{
  "nbformat": 4,
  "nbformat_minor": 0,
  "metadata": {
    "colab": {
      "provenance": [],
      "machine_shape": "hm",
      "gpuType": "T4"
    },
    "kernelspec": {
      "name": "python3",
      "display_name": "Python 3"
    },
    "language_info": {
      "name": "python"
    },
    "accelerator": "GPU"
  },
  "cells": [
    {
      "cell_type": "code",
      "execution_count": 1,
      "metadata": {
        "id": "CFQVbqDuBie2"
      },
      "outputs": [],
      "source": [
        "import torch\n",
        "from torch import nn, optim\n",
        "from torchvision import datasets, transforms\n",
        "import torch.nn.functional as F\n",
        "from torch.utils.data import DataLoader\n",
        "from torchvision.utils import save_image\n",
        "from math import log2\n",
        "import numpy as np\n",
        "import os\n",
        "from tqdm import tqdm\n",
        "import matplotlib.pyplot as plt"
      ]
    },
    {
      "cell_type": "code",
      "source": [
        "!unzip -qq /content/drive/MyDrive/celeba.zip"
      ],
      "metadata": {
        "id": "habdYBbqlDBg"
      },
      "execution_count": 2,
      "outputs": []
    },
    {
      "cell_type": "code",
      "source": [
        "DATASET                 = \"/content/img_align_celeba\"\n",
        "START_TRAIN_AT_IMG_SIZE = 8 #The authors start from 8x8 images instead of 4x4\n",
        "DEVICE                  = \"cuda\" if torch.cuda.is_available() else \"cpu\"\n",
        "LEARNING_RATE           = 1e-3\n",
        "BATCH_SIZES             = [256, 128, 64, 32, 16, 8]\n",
        "CHANNELS_IMG            = 3\n",
        "Z_DIM                   = 256\n",
        "W_DIM                   = 256\n",
        "IN_CHANNELS             = 256\n",
        "LAMBDA_GP               = 10\n",
        "PROGRESSIVE_EPOCHS      = [30] * len(BATCH_SIZES)"
      ],
      "metadata": {
        "id": "QzcoCnjiESPC"
      },
      "execution_count": 71,
      "outputs": []
    },
    {
      "cell_type": "code",
      "source": [
        "def get_loader(image_size):\n",
        "  transform = transforms.Compose(\n",
        "        [\n",
        "            transforms.Resize((image_size, image_size)),\n",
        "            transforms.ToTensor(),\n",
        "            transforms.RandomHorizontalFlip(p=0.5),\n",
        "            transforms.Normalize(\n",
        "                [0.5 for _ in range(CHANNELS_IMG)],\n",
        "                [0.5 for _ in range(CHANNELS_IMG)],\n",
        "            ),\n",
        "        ]\n",
        "    )\n",
        "  batch_size = BATCH_SIZES[int(log2(image_size / 4))]\n",
        "  dataset = datasets.ImageFolder(root=DATASET, transform=transform)\n",
        "  loader = DataLoader(\n",
        "      dataset,\n",
        "      batch_size=batch_size,\n",
        "      shuffle=True\n",
        "  )\n",
        "  return loader, dataset"
      ],
      "metadata": {
        "id": "Tsv3Gzi_Ei3h"
      },
      "execution_count": 72,
      "outputs": []
    },
    {
      "cell_type": "code",
      "source": [
        "factors = [1, 1, 1, 1, 1 / 2, 1 / 4, 1 / 8, 1 / 16, 1 / 32]"
      ],
      "metadata": {
        "id": "frpxmmZlEipa"
      },
      "execution_count": 73,
      "outputs": []
    },
    {
      "cell_type": "code",
      "source": [
        "class WSLinear(nn.Module):\n",
        "  def __init__(self, in_features, out_features):\n",
        "    super(WSLinear, self).__init__()\n",
        "    self.linear = nn.Linear(in_features, out_features)\n",
        "    self.scale = (2 / in_features) ** 0.5\n",
        "    self.bias = self.linear.bias\n",
        "    self.linear.bias = None\n",
        "\n",
        "    nn.init.normal_(self.linear.weight)\n",
        "    nn.init.zeros_(self.bias)\n",
        "\n",
        "  def forward(self, x):\n",
        "    return self.linear(x * self.scale) + self.bias"
      ],
      "metadata": {
        "id": "OiEVYMoyEiiD"
      },
      "execution_count": 74,
      "outputs": []
    },
    {
      "cell_type": "code",
      "source": [
        "class MappingNetwork(nn.Module):\n",
        "  def __init__(self, z_dim, w_dim):\n",
        "    super(MappingNetwork, self).__init__()\n",
        "    self.mapping = nn.Sequential(\n",
        "        PixelNorm(),\n",
        "        WSLinear(z_dim, w_dim),\n",
        "        nn.ReLU(),\n",
        "        WSLinear(w_dim, w_dim),\n",
        "        nn.ReLU(),\n",
        "        WSLinear(w_dim, w_dim),\n",
        "        nn.ReLU(),\n",
        "        WSLinear(w_dim, w_dim),\n",
        "        nn.ReLU(),\n",
        "        WSLinear(w_dim, w_dim),\n",
        "        nn.ReLU(),\n",
        "        WSLinear(w_dim, w_dim),\n",
        "        nn.ReLU(),\n",
        "        WSLinear(w_dim, w_dim),\n",
        "        nn.ReLU(),\n",
        "        WSLinear(w_dim, w_dim),\n",
        "    )\n",
        "\n",
        "  def forward(self, x):\n",
        "    return self.mapping(x)"
      ],
      "metadata": {
        "id": "ZIrnv5W6GLVR"
      },
      "execution_count": 75,
      "outputs": []
    },
    {
      "cell_type": "code",
      "source": [
        "class AdaIN(nn.Module):\n",
        "  def __init__(self, channels, w_dim):\n",
        "    super(AdaIN, self).__init__()\n",
        "    self.instance_norm = nn.InstanceNorm2d(channels)\n",
        "    self.style_scale = WSLinear(w_dim, channels)\n",
        "    self.style_bias = WSLinear(w_dim, channels)\n",
        "\n",
        "  def forward(self, x, w):\n",
        "    x = self.instance_norm(x)\n",
        "    style_scale = self.style_scale(w).unsqueeze(2).unsqueeze(3)\n",
        "    style_bias = self.style_bias(w).unsqueeze(2).unsqueeze(3)\n",
        "    return style_scale * x + style_bias"
      ],
      "metadata": {
        "id": "uSZkZjAbHN9X"
      },
      "execution_count": 76,
      "outputs": []
    },
    {
      "cell_type": "code",
      "source": [
        "class InjectNoise(nn.Module):\n",
        "  def __init__(self, channels):\n",
        "    super(InjectNoise, self).__init__()\n",
        "    self.weight = nn.Parameter(torch.zeros(1, channels, 1, 1))\n",
        "\n",
        "  def forward(self, x):\n",
        "    noise = torch.randn((x.shape[0], 1, x.shape[2], x.shape[3]), device=x.device)\n",
        "    return x + self.weight * noise"
      ],
      "metadata": {
        "id": "488RCVCUIpf9"
      },
      "execution_count": 77,
      "outputs": []
    },
    {
      "cell_type": "code",
      "source": [
        "class WSConv2d(nn.Module):\n",
        "  def __init__(self, in_channels, out_channels, kernel_size=3, stride=1, padding=1):\n",
        "    super(WSConv2d, self).__init__()\n",
        "    self.conv = nn.Conv2d(in_channels, out_channels, kernel_size, stride, padding)\n",
        "    self.scale = (2 / (in_channels * (kernel_size ** 2))) ** 0.5\n",
        "    self.bias = self.conv.bias\n",
        "    self.conv.bias = None\n",
        "\n",
        "    nn.init.normal_(self.conv.weight)\n",
        "    nn.init.zeros_(self.bias)\n",
        "\n",
        "  def forward(self, x):\n",
        "    return self.conv(x * self.scale) + self.bias.view(1, self.bias.shape[0], 1, 1)"
      ],
      "metadata": {
        "id": "590SICBiJbhb"
      },
      "execution_count": 78,
      "outputs": []
    },
    {
      "cell_type": "code",
      "source": [
        "class PixelNorm(nn.Module):\n",
        "  def __init__(self):\n",
        "    super(PixelNorm, self).__init__()\n",
        "    self.epsilon = 1e-8\n",
        "\n",
        "  def forward(self, x):\n",
        "    return x / torch.sqrt(torch.mean(x ** 2, dim=1, keepdim=True) + self.epsilon)"
      ],
      "metadata": {
        "id": "dsnBb-bUKUTy"
      },
      "execution_count": 79,
      "outputs": []
    },
    {
      "cell_type": "code",
      "source": [
        "class ConvBlock(nn.Module):\n",
        "  def __init__(self, in_channels, out_channels):\n",
        "    super(ConvBlock, self).__init__()\n",
        "    self.conv1 = WSConv2d(in_channels, out_channels)\n",
        "    self.conv2 = WSConv2d(in_channels, out_channels)\n",
        "    self.lrelu = nn.LeakyReLU(0.1)\n",
        "\n",
        "  def forward(self, x):\n",
        "    x = self.lrelu(self.conv1(x))\n",
        "    x = self.lrelu(self.conv2(x))\n",
        "    return x"
      ],
      "metadata": {
        "id": "uyMP5u92K0jQ"
      },
      "execution_count": 80,
      "outputs": []
    },
    {
      "cell_type": "code",
      "source": [
        "class Discriminator(nn.Module):\n",
        "  def __init__(self, in_channels, img_channels=3):\n",
        "    super(Discriminator, self).__init__()\n",
        "    self.prog_blocks, self.rgb_layers = nn.ModuleList([]), nn.ModuleList([])\n",
        "    self.lrelu = nn.LeakyReLU(0.2)\n",
        "\n",
        "    for i in range(len(factors) - 1, 0, -1):\n",
        "      conv_in = int(in_channels * factors[i])\n",
        "      conv_out = int(in_channels * factors[i - 1])\n",
        "      self.prog_blocks.append(ConvBlock(conv_in, conv_out))\n",
        "      self.rgb_layers.append(WSConv2d(img_channels, conv_in, 1, 1, 0))\n",
        "\n",
        "    self.initial_rgb = WSConv2d(img_channels, in_channels, 1, 1, 0)\n",
        "    self.rgb_layers.append(self.initial_rgb)\n",
        "    self.avg_pool = nn.AvgPool2d(kernel_size=2, stride=2)\n",
        "\n",
        "    self.final_block = nn.Sequential(\n",
        "        WSConv2d(in_channels+1, in_channels, kernel_size=3, padding=1),\n",
        "        nn.LeakyReLU(0.2),\n",
        "        WSConv2d(in_channels, in_channels, kernel_size=4, stride=1, padding=0),\n",
        "        nn.LeakyReLU(0.2),\n",
        "        WSConv2d(in_channels, 1, 1, 1, 0)\n",
        "    )\n",
        "\n",
        "  def fade_in(self, alpha, downscaled, out):\n",
        "    return alpha * out + (1 - alpha) * downscaled\n",
        "\n",
        "  def minibatch_std(self, x):\n",
        "    batch_statistics = torch.std(x, dim=0).mean().repeat(x.shape[0], 1, x.shape[2], x.shape[3])\n",
        "    return torch.cat([x, batch_statistics], dim=1)\n",
        "\n",
        "  def forward(self, x, alpha, steps):\n",
        "    cur_step = len(self.prog_blocks) - steps\n",
        "    out = self.lrelu(self.rgb_layers[cur_step](x))\n",
        "    if steps == 0:\n",
        "      out = self.minibatch_std(out)\n",
        "      return self.final_block(out).view(out.shape[0], -1)\n",
        "    downscaled = self.lrelu(self.rgb_layers[cur_step + 1](self.avg_pool(x)))\n",
        "    out = self.avg_pool(self.prog_blocks[cur_step](out))\n",
        "\n",
        "    out = self.fade_in(alpha, downscaled, out)\n",
        "\n",
        "    for step in range(cur_step + 1, len(self.prog_blocks)):\n",
        "      out = self.prog_blocks[step](out)\n",
        "      out = self.avg_pool(out)\n",
        "\n",
        "    out = self.minibatch_std(out)\n",
        "    return self.final_block(out).view(out.shape[0], -1)"
      ],
      "metadata": {
        "id": "hWd3rHgKLqjJ"
      },
      "execution_count": 81,
      "outputs": []
    },
    {
      "cell_type": "code",
      "source": [
        "class GenBlock(nn.Module):\n",
        "  def __init__(self, in_channels, out_channels, w_dim):\n",
        "    super(GenBlock, self).__init__()\n",
        "    self.conv1 = WSConv2d(in_channels, out_channels)\n",
        "    self.conv2 = WSConv2d(in_channels, out_channels)\n",
        "    self.lrelu = nn.LeakyReLU(0.2, inplace=True)\n",
        "    self.inject_noise1 = InjectNoise(out_channels)\n",
        "    self.inject_noise2 = InjectNoise(out_channels)\n",
        "    self.adain1 = AdaIN(out_channels, w_dim)\n",
        "    self.adain2 = AdaIN(out_channels, w_dim)\n",
        "\n",
        "  def forward(self, x, w):\n",
        "    x = self.adain1(self.lrelu(self.inject_noise1(self.conv1(x))), w)\n",
        "    x = self.adain2(self.lrelu(self.inject_noise2(self.conv2(x))), w)\n",
        "    return x"
      ],
      "metadata": {
        "id": "Y2jwGlOlQqUf"
      },
      "execution_count": 82,
      "outputs": []
    },
    {
      "cell_type": "code",
      "source": [
        "class Generator(nn.Module):\n",
        "  def __init__(self, z_dim, w_dim, in_channels, img_channels=3):\n",
        "    super(Generator, self).__init__()\n",
        "    self.starting_constant = nn.Parameter(torch.ones((1, in_channels, 4, 4)))\n",
        "    self.map = MappingNetwork(z_dim, w_dim)\n",
        "    self.initial_adain1 = AdaIN(in_channels, w_dim)\n",
        "    self.initial_adain2 = AdaIN(in_channels, w_dim)\n",
        "    self.initial_noise1 = InjectNoise(in_channels)\n",
        "    self.initial_noise2 = InjectNoise(in_channels)\n",
        "    self.initial_conv = nn.Conv2d(in_channels, in_channels, kernel_size=3, stride=1, padding=1)\n",
        "    self.lrelu = nn.LeakyReLU(0.2, inplace=True)\n",
        "\n",
        "    self.initial_rgb = WSConv2d(in_channels, img_channels, 1, 1, 0)\n",
        "    self.prog_blocks, self.rgb_layers = (\n",
        "        nn.ModuleList([]),\n",
        "        nn.ModuleList([self.initial_rgb])\n",
        "    )\n",
        "\n",
        "    for i in range(len(factors) - 1):\n",
        "      conv_in_c = int(in_channels * factors[i])\n",
        "      conv_out_c = int(in_channels * factors[i + 1])\n",
        "      self.prog_blocks.append(GenBlock(conv_in_c, conv_out_c, w_dim))\n",
        "      self.rgb_layers.append(\n",
        "          WSConv2d(conv_out_c, img_channels, 1, 1, 0)\n",
        "      )\n",
        "\n",
        "  def fade_in(self, alpha, upscaled, generated):\n",
        "    return torch.tanh(alpha * generated + (1 - alpha) * upscaled)\n",
        "\n",
        "  def forward(self, noise, alpha, steps):\n",
        "    w = self.map(noise)\n",
        "    x = self.initial_adain1(self.initial_noise1(self.starting_constant), w)\n",
        "    x = self.initial_conv(x)\n",
        "    out = self.initial_adain2(self.lrelu(self.initial_noise2(x)), w)\n",
        "\n",
        "    if steps == 0:\n",
        "      return self.initial_rgb(x)\n",
        "\n",
        "    for step in range(steps):\n",
        "      upscaled = F.interpolate(out, scale_factor=2, mode=\"bilinear\")\n",
        "      out = self.prog_blocks[step](upscaled, w)\n",
        "\n",
        "    final_upscaled = self.rgb_layers[steps - 1](upscaled)\n",
        "    final_out = self.rgb_layers[steps](out)\n",
        "    return self.fade_in(alpha, final_upscaled, final_out)\n"
      ],
      "metadata": {
        "id": "guhzLClFVUK3"
      },
      "execution_count": 95,
      "outputs": []
    },
    {
      "cell_type": "code",
      "source": [
        "def generate_examples(gen, steps, n=100):\n",
        "  gen.eval()\n",
        "  alpha = 1.0\n",
        "  for i in range(n):\n",
        "    with torch.no_grad():\n",
        "      noise = torch.randn(1, Z_DIM).to(DEVICE)\n",
        "      img = gen(noise, alpha, steps)\n",
        "      if not os.path.exists(f'saved_examples/step{steps}'):\n",
        "          os.makedirs(f'saved_examples/step{steps}')\n",
        "      save_image(img*0.5+0.5, f\"saved_examples/step{steps}/img_{i}.png\")\n",
        "  gen.train()"
      ],
      "metadata": {
        "id": "SDyQOxyydtdb"
      },
      "execution_count": 96,
      "outputs": []
    },
    {
      "cell_type": "code",
      "source": [
        "def gradient_penalty(critic, real, fake, alpha, train_step, device=\"cpu\"):\n",
        "  BATCH_SIZE, C, H, W = real.shape\n",
        "  beta = torch.rand((BATCH_SIZE, 1, 1, 1)).repeat(1, C, H, W).to(device)\n",
        "  interpolated_imgs = real * beta + fake.detach() * (1 - beta)\n",
        "  interpolated_imgs.requires_grad_(True)\n",
        "\n",
        "  mixed_scores = critic(interpolated_imgs, alpha, train_step)\n",
        "\n",
        "  gradient = torch.autograd.grad(\n",
        "      inputs=interpolated_imgs,\n",
        "      outputs=mixed_scores,\n",
        "      grad_outputs=torch.ones_like(mixed_scores),\n",
        "      create_graph=True,\n",
        "      retain_graph=True\n",
        "  )[0]\n",
        "  gradient.view(gradient.shape[0], -1)\n",
        "  gradient_norm = gradient.norm(2, dim=1)\n",
        "  grad_penalty = torch.mean((gradient_norm - 1) ** 2)\n",
        "  return grad_penalty"
      ],
      "metadata": {
        "id": "zgTGyHcWebr6"
      },
      "execution_count": 97,
      "outputs": []
    },
    {
      "cell_type": "code",
      "source": [
        "def train_fn(critic, gen, loader, dataset, step, alpha, opt_critic, opt_gen):\n",
        "  loop = tqdm(loader, leave=True)\n",
        "  for batch_idx, (real, _) in enumerate(loop):\n",
        "    real = real.to(DEVICE)\n",
        "    cur_batch_size = real.shape[0]\n",
        "\n",
        "    noise = torch.randn(cur_batch_size, Z_DIM).to(DEVICE)\n",
        "    fake = gen(noise, alpha, step)\n",
        "    fake_ = fake.detach()\n",
        "    critic_real = critic(real, alpha, step)\n",
        "    critic_fake = critic(fake_, alpha, step)\n",
        "    gp = gradient_penalty(critic, real, fake_, alpha, step, DEVICE)\n",
        "    loss_critic = (\n",
        "        -(torch.mean(critic_real) - torch.mean(critic_fake))\n",
        "        + LAMBDA_GP * gp\n",
        "        + (0.001 * torch.mean(critic_real ** 2))\n",
        "    )\n",
        "\n",
        "    critic.zero_grad()\n",
        "    loss_critic.backward()\n",
        "    opt_critic.step()\n",
        "\n",
        "    gen_fake = critic(fake, alpha, step)\n",
        "    loss_gen = -torch.mean(gen_fake)\n",
        "\n",
        "    gen.zero_grad()\n",
        "    loss_gen.backward()\n",
        "    opt_gen.step()\n",
        "\n",
        "    alpha += cur_batch_size / ((PROGRESSIVE_EPOCHS[step] * 0.5) * len(dataset))\n",
        "    alpha = min(alpha, 1)\n",
        "\n",
        "    loop.set_postfix(gp=gp.item(), loss_critic=loss_critic.item())\n",
        "\n",
        "  return alpha"
      ],
      "metadata": {
        "id": "ut-nxWk0gNvK"
      },
      "execution_count": 126,
      "outputs": []
    },
    {
      "cell_type": "code",
      "source": [
        "gen = Generator(Z_DIM, W_DIM, IN_CHANNELS, CHANNELS_IMG).to(DEVICE)\n",
        "critic = Discriminator(IN_CHANNELS, CHANNELS_IMG).to(DEVICE)\n",
        "opt_gen = optim.Adam([{\"params\": [param for name, param in gen.named_parameters() if \"map\" not in name]},\n",
        "                        {\"params\": gen.map.parameters(), \"lr\": 1e-5}], lr=LEARNING_RATE, betas=(0.0, 0.99))\n",
        "opt_critic = optim.Adam(critic.parameters(), lr=LEARNING_RATE, betas=(0.0, 0.99))\n",
        "\n",
        "gen.train()\n",
        "critic.train()\n",
        "\n",
        "step = int(log2(START_TRAIN_AT_IMG_SIZE / 4))\n",
        "for num_epochs in PROGRESSIVE_EPOCHS[step:]:\n",
        "    alpha = 1e-5   # start with very low alpha\n",
        "    loader, dataset = get_loader(4 * 2 ** step)\n",
        "    print(f\"Current image size: {4 * 2 ** step}\")\n",
        "\n",
        "    for epoch in range(num_epochs):\n",
        "        print(f\"Epoch [{epoch+1}/{num_epochs}]\")\n",
        "        alpha = train_fn(\n",
        "            critic,\n",
        "            gen,\n",
        "            loader,\n",
        "            dataset,\n",
        "            step,\n",
        "            alpha,\n",
        "            opt_critic,\n",
        "            opt_gen\n",
        "        )\n",
        "\n",
        "    generate_examples(gen, step)\n",
        "    step += 1  # progress to the next img size"
      ],
      "metadata": {
        "colab": {
          "base_uri": "https://localhost:8080/"
        },
        "id": "TbdIfCQ8i5KU",
        "outputId": "e7c56850-b9ba-4e63-99aa-072cc4079996"
      },
      "execution_count": null,
      "outputs": [
        {
          "metadata": {
            "tags": null
          },
          "name": "stdout",
          "output_type": "stream",
          "text": [
            "Current image size: 8\n",
            "Epoch [1/30]\n"
          ]
        },
        {
          "metadata": {
            "tags": null
          },
          "name": "stderr",
          "output_type": "stream",
          "text": [
            "100%|██████████| 1583/1583 [05:12<00:00,  5.07it/s, gp=0.276, loss_critic=-9.13]\n"
          ]
        },
        {
          "metadata": {
            "tags": null
          },
          "name": "stdout",
          "output_type": "stream",
          "text": [
            "Epoch [2/30]\n"
          ]
        },
        {
          "metadata": {
            "tags": null
          },
          "name": "stderr",
          "output_type": "stream",
          "text": [
            "100%|██████████| 1583/1583 [05:12<00:00,  5.06it/s, gp=0.0409, loss_critic=-2.57]\n"
          ]
        },
        {
          "metadata": {
            "tags": null
          },
          "name": "stdout",
          "output_type": "stream",
          "text": [
            "Epoch [3/30]\n"
          ]
        },
        {
          "metadata": {
            "tags": null
          },
          "name": "stderr",
          "output_type": "stream",
          "text": [
            "100%|██████████| 1583/1583 [05:13<00:00,  5.05it/s, gp=0.0388, loss_critic=-.872]\n"
          ]
        },
        {
          "metadata": {
            "tags": null
          },
          "name": "stdout",
          "output_type": "stream",
          "text": [
            "Epoch [4/30]\n"
          ]
        },
        {
          "metadata": {
            "tags": null
          },
          "name": "stderr",
          "output_type": "stream",
          "text": [
            "100%|██████████| 1583/1583 [05:13<00:00,  5.05it/s, gp=0.0513, loss_critic=0.015]\n"
          ]
        },
        {
          "metadata": {
            "tags": null
          },
          "name": "stdout",
          "output_type": "stream",
          "text": [
            "Epoch [5/30]\n"
          ]
        },
        {
          "metadata": {
            "tags": null
          },
          "name": "stderr",
          "output_type": "stream",
          "text": [
            "100%|██████████| 1583/1583 [05:13<00:00,  5.05it/s, gp=0.11, loss_critic=0.601]\n"
          ]
        },
        {
          "metadata": {
            "tags": null
          },
          "name": "stdout",
          "output_type": "stream",
          "text": [
            "Epoch [6/30]\n"
          ]
        },
        {
          "metadata": {
            "tags": null
          },
          "name": "stderr",
          "output_type": "stream",
          "text": [
            "100%|██████████| 1583/1583 [05:13<00:00,  5.05it/s, gp=0.129, loss_critic=1.15]\n"
          ]
        },
        {
          "metadata": {
            "tags": null
          },
          "name": "stdout",
          "output_type": "stream",
          "text": [
            "Epoch [7/30]\n"
          ]
        },
        {
          "metadata": {
            "tags": null
          },
          "name": "stderr",
          "output_type": "stream",
          "text": [
            "100%|██████████| 1583/1583 [05:13<00:00,  5.05it/s, gp=0.142, loss_critic=2.2]\n"
          ]
        },
        {
          "metadata": {
            "tags": null
          },
          "name": "stdout",
          "output_type": "stream",
          "text": [
            "Epoch [8/30]\n"
          ]
        },
        {
          "metadata": {
            "tags": null
          },
          "name": "stderr",
          "output_type": "stream",
          "text": [
            "100%|██████████| 1583/1583 [05:13<00:00,  5.05it/s, gp=0.121, loss_critic=0.93]\n"
          ]
        },
        {
          "metadata": {
            "tags": null
          },
          "name": "stdout",
          "output_type": "stream",
          "text": [
            "Epoch [9/30]\n"
          ]
        },
        {
          "metadata": {
            "tags": null
          },
          "name": "stderr",
          "output_type": "stream",
          "text": [
            "100%|██████████| 1583/1583 [05:13<00:00,  5.04it/s, gp=0.115, loss_critic=1.68]\n"
          ]
        },
        {
          "metadata": {
            "tags": null
          },
          "name": "stdout",
          "output_type": "stream",
          "text": [
            "Epoch [10/30]\n"
          ]
        },
        {
          "metadata": {
            "tags": null
          },
          "name": "stderr",
          "output_type": "stream",
          "text": [
            "100%|██████████| 1583/1583 [05:13<00:00,  5.05it/s, gp=0.0936, loss_critic=1.17]\n"
          ]
        },
        {
          "metadata": {
            "tags": null
          },
          "name": "stdout",
          "output_type": "stream",
          "text": [
            "Epoch [11/30]\n"
          ]
        },
        {
          "metadata": {
            "tags": null
          },
          "name": "stderr",
          "output_type": "stream",
          "text": [
            "100%|██████████| 1583/1583 [05:12<00:00,  5.06it/s, gp=0.0889, loss_critic=0.766]\n"
          ]
        },
        {
          "metadata": {
            "tags": null
          },
          "name": "stdout",
          "output_type": "stream",
          "text": [
            "Epoch [12/30]\n"
          ]
        },
        {
          "metadata": {
            "tags": null
          },
          "name": "stderr",
          "output_type": "stream",
          "text": [
            "100%|██████████| 1583/1583 [05:13<00:00,  5.05it/s, gp=0.104, loss_critic=1.15]\n"
          ]
        },
        {
          "metadata": {
            "tags": null
          },
          "name": "stdout",
          "output_type": "stream",
          "text": [
            "Epoch [13/30]\n"
          ]
        },
        {
          "metadata": {
            "tags": null
          },
          "name": "stderr",
          "output_type": "stream",
          "text": [
            "100%|██████████| 1583/1583 [05:14<00:00,  5.03it/s, gp=0.096, loss_critic=0.586]\n"
          ]
        },
        {
          "metadata": {
            "tags": null
          },
          "name": "stdout",
          "output_type": "stream",
          "text": [
            "Epoch [14/30]\n"
          ]
        },
        {
          "metadata": {
            "tags": null
          },
          "name": "stderr",
          "output_type": "stream",
          "text": [
            "100%|██████████| 1583/1583 [05:15<00:00,  5.02it/s, gp=0.0873, loss_critic=1.45]\n"
          ]
        },
        {
          "metadata": {
            "tags": null
          },
          "name": "stdout",
          "output_type": "stream",
          "text": [
            "Epoch [15/30]\n"
          ]
        },
        {
          "metadata": {
            "tags": null
          },
          "name": "stderr",
          "output_type": "stream",
          "text": [
            "100%|██████████| 1583/1583 [05:14<00:00,  5.03it/s, gp=0.109, loss_critic=1.38]\n"
          ]
        },
        {
          "metadata": {
            "tags": null
          },
          "name": "stdout",
          "output_type": "stream",
          "text": [
            "Epoch [16/30]\n"
          ]
        },
        {
          "metadata": {
            "tags": null
          },
          "name": "stderr",
          "output_type": "stream",
          "text": [
            "100%|██████████| 1583/1583 [05:26<00:00,  4.85it/s, gp=0.095, loss_critic=1.18]\n"
          ]
        },
        {
          "metadata": {
            "tags": null
          },
          "name": "stdout",
          "output_type": "stream",
          "text": [
            "Epoch [17/30]\n"
          ]
        },
        {
          "metadata": {
            "tags": null
          },
          "name": "stderr",
          "output_type": "stream",
          "text": [
            "100%|██████████| 1583/1583 [05:23<00:00,  4.90it/s, gp=0.0829, loss_critic=1.75]\n"
          ]
        },
        {
          "metadata": {
            "tags": null
          },
          "name": "stdout",
          "output_type": "stream",
          "text": [
            "Epoch [18/30]\n"
          ]
        },
        {
          "metadata": {
            "tags": null
          },
          "name": "stderr",
          "output_type": "stream",
          "text": [
            "100%|██████████| 1583/1583 [05:21<00:00,  4.93it/s, gp=0.0835, loss_critic=0.825]\n"
          ]
        },
        {
          "metadata": {
            "tags": null
          },
          "name": "stdout",
          "output_type": "stream",
          "text": [
            "Epoch [19/30]\n"
          ]
        },
        {
          "metadata": {
            "tags": null
          },
          "name": "stderr",
          "output_type": "stream",
          "text": [
            "100%|██████████| 1583/1583 [05:20<00:00,  4.94it/s, gp=0.0697, loss_critic=0.903]\n"
          ]
        },
        {
          "metadata": {
            "tags": null
          },
          "name": "stdout",
          "output_type": "stream",
          "text": [
            "Epoch [20/30]\n"
          ]
        },
        {
          "metadata": {
            "tags": null
          },
          "name": "stderr",
          "output_type": "stream",
          "text": [
            "100%|██████████| 1583/1583 [05:20<00:00,  4.94it/s, gp=0.0833, loss_critic=1.24]\n"
          ]
        },
        {
          "metadata": {
            "tags": null
          },
          "name": "stdout",
          "output_type": "stream",
          "text": [
            "Epoch [21/30]\n"
          ]
        },
        {
          "metadata": {
            "tags": null
          },
          "name": "stderr",
          "output_type": "stream",
          "text": [
            "100%|██████████| 1583/1583 [05:21<00:00,  4.92it/s, gp=0.0817, loss_critic=1.28]\n"
          ]
        },
        {
          "metadata": {
            "tags": null
          },
          "name": "stdout",
          "output_type": "stream",
          "text": [
            "Epoch [22/30]\n"
          ]
        },
        {
          "metadata": {
            "tags": null
          },
          "name": "stderr",
          "output_type": "stream",
          "text": [
            "100%|██████████| 1583/1583 [05:20<00:00,  4.93it/s, gp=0.0876, loss_critic=0.936]\n"
          ]
        },
        {
          "metadata": {
            "tags": null
          },
          "name": "stdout",
          "output_type": "stream",
          "text": [
            "Epoch [23/30]\n"
          ]
        },
        {
          "metadata": {
            "tags": null
          },
          "name": "stderr",
          "output_type": "stream",
          "text": [
            "100%|██████████| 1583/1583 [05:21<00:00,  4.92it/s, gp=0.0655, loss_critic=0.927]\n"
          ]
        },
        {
          "metadata": {
            "tags": null
          },
          "name": "stdout",
          "output_type": "stream",
          "text": [
            "Epoch [24/30]\n"
          ]
        },
        {
          "metadata": {
            "tags": null
          },
          "name": "stderr",
          "output_type": "stream",
          "text": [
            "100%|██████████| 1583/1583 [05:21<00:00,  4.92it/s, gp=0.0617, loss_critic=0.73]\n"
          ]
        },
        {
          "metadata": {
            "tags": null
          },
          "name": "stdout",
          "output_type": "stream",
          "text": [
            "Epoch [25/30]\n"
          ]
        },
        {
          "metadata": {
            "tags": null
          },
          "name": "stderr",
          "output_type": "stream",
          "text": [
            "100%|██████████| 1583/1583 [05:21<00:00,  4.93it/s, gp=0.0637, loss_critic=0.932]\n"
          ]
        },
        {
          "metadata": {
            "tags": null
          },
          "name": "stdout",
          "output_type": "stream",
          "text": [
            "Epoch [26/30]\n"
          ]
        },
        {
          "metadata": {
            "tags": null
          },
          "name": "stderr",
          "output_type": "stream",
          "text": [
            "100%|██████████| 1583/1583 [05:22<00:00,  4.91it/s, gp=0.0717, loss_critic=0.807]\n"
          ]
        },
        {
          "metadata": {
            "tags": null
          },
          "name": "stdout",
          "output_type": "stream",
          "text": [
            "Epoch [27/30]\n"
          ]
        },
        {
          "metadata": {
            "tags": null
          },
          "name": "stderr",
          "output_type": "stream",
          "text": [
            "100%|██████████| 1583/1583 [05:22<00:00,  4.90it/s, gp=0.0821, loss_critic=1.1]\n"
          ]
        },
        {
          "metadata": {
            "tags": null
          },
          "name": "stdout",
          "output_type": "stream",
          "text": [
            "Epoch [28/30]\n"
          ]
        },
        {
          "metadata": {
            "tags": null
          },
          "name": "stderr",
          "output_type": "stream",
          "text": [
            "100%|██████████| 1583/1583 [05:22<00:00,  4.91it/s, gp=0.0647, loss_critic=1.13]\n"
          ]
        },
        {
          "metadata": {
            "tags": null
          },
          "name": "stdout",
          "output_type": "stream",
          "text": [
            "Epoch [29/30]\n"
          ]
        },
        {
          "metadata": {
            "tags": null
          },
          "name": "stderr",
          "output_type": "stream",
          "text": [
            "100%|██████████| 1583/1583 [05:22<00:00,  4.91it/s, gp=0.0703, loss_critic=0.964]\n"
          ]
        },
        {
          "metadata": {
            "tags": null
          },
          "name": "stdout",
          "output_type": "stream",
          "text": [
            "Epoch [30/30]\n"
          ]
        },
        {
          "metadata": {
            "tags": null
          },
          "name": "stderr",
          "output_type": "stream",
          "text": [
            "100%|██████████| 1583/1583 [05:27<00:00,  4.83it/s, gp=0.0737, loss_critic=0.722]\n"
          ]
        },
        {
          "metadata": {
            "tags": null
          },
          "name": "stdout",
          "output_type": "stream",
          "text": [
            "Current image size: 16\n",
            "Epoch [1/30]\n"
          ]
        },
        {
          "output_type": "stream",
          "name": "stderr",
          "text": [
            "100%|██████████| 3166/3166 [11:43<00:00,  4.50it/s, gp=0.15, loss_critic=2.2]\n"
          ]
        },
        {
          "output_type": "stream",
          "name": "stdout",
          "text": [
            "Epoch [2/30]\n"
          ]
        },
        {
          "output_type": "stream",
          "name": "stderr",
          "text": [
            "100%|██████████| 3166/3166 [11:48<00:00,  4.47it/s, gp=0.108, loss_critic=-3.17]\n"
          ]
        },
        {
          "output_type": "stream",
          "name": "stdout",
          "text": [
            "Epoch [3/30]\n"
          ]
        },
        {
          "output_type": "stream",
          "name": "stderr",
          "text": [
            "100%|██████████| 3166/3166 [11:49<00:00,  4.46it/s, gp=0.137, loss_critic=1.39]\n"
          ]
        },
        {
          "output_type": "stream",
          "name": "stdout",
          "text": [
            "Epoch [4/30]\n"
          ]
        },
        {
          "output_type": "stream",
          "name": "stderr",
          "text": [
            "100%|██████████| 3166/3166 [11:48<00:00,  4.47it/s, gp=0.169, loss_critic=2.55]\n"
          ]
        },
        {
          "output_type": "stream",
          "name": "stdout",
          "text": [
            "Epoch [5/30]\n"
          ]
        },
        {
          "output_type": "stream",
          "name": "stderr",
          "text": [
            "100%|██████████| 3166/3166 [11:45<00:00,  4.48it/s, gp=0.171, loss_critic=0.286]\n"
          ]
        },
        {
          "output_type": "stream",
          "name": "stdout",
          "text": [
            "Epoch [6/30]\n"
          ]
        },
        {
          "output_type": "stream",
          "name": "stderr",
          "text": [
            "100%|██████████| 3166/3166 [11:52<00:00,  4.44it/s, gp=0.173, loss_critic=-2.32]\n"
          ]
        },
        {
          "output_type": "stream",
          "name": "stdout",
          "text": [
            "Epoch [7/30]\n"
          ]
        },
        {
          "output_type": "stream",
          "name": "stderr",
          "text": [
            "100%|██████████| 3166/3166 [11:53<00:00,  4.44it/s, gp=0.19, loss_critic=1.01]\n"
          ]
        },
        {
          "output_type": "stream",
          "name": "stdout",
          "text": [
            "Epoch [8/30]\n"
          ]
        },
        {
          "output_type": "stream",
          "name": "stderr",
          "text": [
            "100%|██████████| 3166/3166 [11:52<00:00,  4.44it/s, gp=0.192, loss_critic=-1.07]\n"
          ]
        },
        {
          "output_type": "stream",
          "name": "stdout",
          "text": [
            "Epoch [9/30]\n"
          ]
        },
        {
          "output_type": "stream",
          "name": "stderr",
          "text": [
            "100%|██████████| 3166/3166 [11:52<00:00,  4.44it/s, gp=0.192, loss_critic=0.999]\n"
          ]
        },
        {
          "output_type": "stream",
          "name": "stdout",
          "text": [
            "Epoch [10/30]\n"
          ]
        },
        {
          "output_type": "stream",
          "name": "stderr",
          "text": [
            "100%|██████████| 3166/3166 [11:53<00:00,  4.43it/s, gp=0.196, loss_critic=-.339]\n"
          ]
        },
        {
          "output_type": "stream",
          "name": "stdout",
          "text": [
            "Epoch [11/30]\n"
          ]
        },
        {
          "output_type": "stream",
          "name": "stderr",
          "text": [
            "100%|██████████| 3166/3166 [11:54<00:00,  4.43it/s, gp=0.189, loss_critic=2.65]\n"
          ]
        },
        {
          "output_type": "stream",
          "name": "stdout",
          "text": [
            "Epoch [12/30]\n"
          ]
        },
        {
          "output_type": "stream",
          "name": "stderr",
          "text": [
            "100%|██████████| 3166/3166 [11:54<00:00,  4.43it/s, gp=0.185, loss_critic=-3.39]\n"
          ]
        },
        {
          "output_type": "stream",
          "name": "stdout",
          "text": [
            "Epoch [13/30]\n"
          ]
        },
        {
          "output_type": "stream",
          "name": "stderr",
          "text": [
            "100%|██████████| 3166/3166 [11:53<00:00,  4.44it/s, gp=0.179, loss_critic=-3.18]\n"
          ]
        },
        {
          "output_type": "stream",
          "name": "stdout",
          "text": [
            "Epoch [14/30]\n"
          ]
        },
        {
          "output_type": "stream",
          "name": "stderr",
          "text": [
            "100%|██████████| 3166/3166 [11:53<00:00,  4.43it/s, gp=0.187, loss_critic=-1.43]\n"
          ]
        },
        {
          "output_type": "stream",
          "name": "stdout",
          "text": [
            "Epoch [15/30]\n"
          ]
        },
        {
          "output_type": "stream",
          "name": "stderr",
          "text": [
            "100%|██████████| 3166/3166 [11:53<00:00,  4.44it/s, gp=0.178, loss_critic=0.281]\n"
          ]
        },
        {
          "output_type": "stream",
          "name": "stdout",
          "text": [
            "Epoch [16/30]\n"
          ]
        },
        {
          "output_type": "stream",
          "name": "stderr",
          "text": [
            "100%|██████████| 3166/3166 [11:52<00:00,  4.44it/s, gp=0.182, loss_critic=1.69]\n"
          ]
        },
        {
          "output_type": "stream",
          "name": "stdout",
          "text": [
            "Epoch [17/30]\n"
          ]
        },
        {
          "output_type": "stream",
          "name": "stderr",
          "text": [
            "100%|██████████| 3166/3166 [11:52<00:00,  4.44it/s, gp=0.175, loss_critic=-1.1]\n"
          ]
        },
        {
          "output_type": "stream",
          "name": "stdout",
          "text": [
            "Epoch [18/30]\n"
          ]
        },
        {
          "output_type": "stream",
          "name": "stderr",
          "text": [
            "100%|██████████| 3166/3166 [11:47<00:00,  4.47it/s, gp=0.178, loss_critic=-.697]\n"
          ]
        },
        {
          "output_type": "stream",
          "name": "stdout",
          "text": [
            "Epoch [19/30]\n"
          ]
        },
        {
          "output_type": "stream",
          "name": "stderr",
          "text": [
            "100%|██████████| 3166/3166 [11:53<00:00,  4.44it/s, gp=0.179, loss_critic=1.81]\n"
          ]
        },
        {
          "output_type": "stream",
          "name": "stdout",
          "text": [
            "Epoch [20/30]\n"
          ]
        },
        {
          "output_type": "stream",
          "name": "stderr",
          "text": [
            "100%|██████████| 3166/3166 [11:53<00:00,  4.44it/s, gp=0.174, loss_critic=0.142]\n"
          ]
        },
        {
          "output_type": "stream",
          "name": "stdout",
          "text": [
            "Epoch [21/30]\n"
          ]
        },
        {
          "output_type": "stream",
          "name": "stderr",
          "text": [
            "100%|██████████| 3166/3166 [11:55<00:00,  4.43it/s, gp=0.176, loss_critic=1.16]\n"
          ]
        },
        {
          "output_type": "stream",
          "name": "stdout",
          "text": [
            "Epoch [22/30]\n"
          ]
        },
        {
          "output_type": "stream",
          "name": "stderr",
          "text": [
            "100%|██████████| 3166/3166 [11:52<00:00,  4.44it/s, gp=0.18, loss_critic=2.19]\n"
          ]
        },
        {
          "output_type": "stream",
          "name": "stdout",
          "text": [
            "Epoch [23/30]\n"
          ]
        },
        {
          "output_type": "stream",
          "name": "stderr",
          "text": [
            "100%|██████████| 3166/3166 [11:56<00:00,  4.42it/s, gp=0.176, loss_critic=2.75]\n"
          ]
        },
        {
          "output_type": "stream",
          "name": "stdout",
          "text": [
            "Epoch [24/30]\n"
          ]
        },
        {
          "output_type": "stream",
          "name": "stderr",
          "text": [
            "100%|██████████| 3166/3166 [11:50<00:00,  4.46it/s, gp=0.179, loss_critic=0.805]\n"
          ]
        },
        {
          "output_type": "stream",
          "name": "stdout",
          "text": [
            "Epoch [25/30]\n"
          ]
        },
        {
          "output_type": "stream",
          "name": "stderr",
          "text": [
            "100%|██████████| 3166/3166 [11:36<00:00,  4.55it/s, gp=0.166, loss_critic=0.521]\n"
          ]
        },
        {
          "output_type": "stream",
          "name": "stdout",
          "text": [
            "Epoch [26/30]\n"
          ]
        },
        {
          "output_type": "stream",
          "name": "stderr",
          "text": [
            "100%|██████████| 3166/3166 [11:34<00:00,  4.56it/s, gp=0.177, loss_critic=0.517]\n"
          ]
        },
        {
          "output_type": "stream",
          "name": "stdout",
          "text": [
            "Epoch [27/30]\n"
          ]
        },
        {
          "output_type": "stream",
          "name": "stderr",
          "text": [
            "100%|██████████| 3166/3166 [11:35<00:00,  4.55it/s, gp=0.17, loss_critic=-2.57]\n"
          ]
        },
        {
          "output_type": "stream",
          "name": "stdout",
          "text": [
            "Epoch [28/30]\n"
          ]
        },
        {
          "output_type": "stream",
          "name": "stderr",
          "text": [
            "100%|██████████| 3166/3166 [11:37<00:00,  4.54it/s, gp=0.174, loss_critic=-2.34]\n"
          ]
        },
        {
          "output_type": "stream",
          "name": "stdout",
          "text": [
            "Epoch [29/30]\n"
          ]
        },
        {
          "output_type": "stream",
          "name": "stderr",
          "text": [
            "100%|██████████| 3166/3166 [11:36<00:00,  4.54it/s, gp=0.167, loss_critic=0.681]\n"
          ]
        },
        {
          "output_type": "stream",
          "name": "stdout",
          "text": [
            "Epoch [30/30]\n"
          ]
        },
        {
          "output_type": "stream",
          "name": "stderr",
          "text": [
            "100%|██████████| 3166/3166 [11:37<00:00,  4.54it/s, gp=0.178, loss_critic=0.0277]\n"
          ]
        },
        {
          "output_type": "stream",
          "name": "stdout",
          "text": [
            "Current image size: 32\n",
            "Epoch [1/30]\n"
          ]
        },
        {
          "output_type": "stream",
          "name": "stderr",
          "text": [
            "100%|██████████| 6332/6332 [39:58<00:00,  2.64it/s, gp=0.369, loss_critic=-38.1]\n"
          ]
        },
        {
          "output_type": "stream",
          "name": "stdout",
          "text": [
            "Epoch [2/30]\n"
          ]
        },
        {
          "output_type": "stream",
          "name": "stderr",
          "text": [
            "100%|██████████| 6332/6332 [40:02<00:00,  2.64it/s, gp=0.355, loss_critic=17.7]\n"
          ]
        },
        {
          "output_type": "stream",
          "name": "stdout",
          "text": [
            "Epoch [3/30]\n"
          ]
        },
        {
          "output_type": "stream",
          "name": "stderr",
          "text": [
            "100%|██████████| 6332/6332 [40:04<00:00,  2.63it/s, gp=0.341, loss_critic=0.519]\n"
          ]
        },
        {
          "output_type": "stream",
          "name": "stdout",
          "text": [
            "Epoch [4/30]\n"
          ]
        },
        {
          "output_type": "stream",
          "name": "stderr",
          "text": [
            "100%|██████████| 6332/6332 [40:02<00:00,  2.64it/s, gp=0.33, loss_critic=-1.9]\n"
          ]
        },
        {
          "output_type": "stream",
          "name": "stdout",
          "text": [
            "Epoch [5/30]\n"
          ]
        },
        {
          "output_type": "stream",
          "name": "stderr",
          "text": [
            " 36%|███▋      | 2297/6332 [14:30<25:26,  2.64it/s, gp=0.305, loss_critic=-18.7]"
          ]
        }
      ]
    },
    {
      "cell_type": "code",
      "source": [],
      "metadata": {
        "id": "sjdwAgeFpmBp"
      },
      "execution_count": null,
      "outputs": []
    }
  ]
}